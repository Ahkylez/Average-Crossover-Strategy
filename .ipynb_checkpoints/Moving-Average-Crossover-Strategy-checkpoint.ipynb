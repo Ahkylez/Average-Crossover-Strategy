{
 "cells": [
  {
   "cell_type": "code",
   "execution_count": 87,
   "id": "b3a94d92-e50f-4ce4-a931-60d54bb76485",
   "metadata": {},
   "outputs": [],
   "source": [
    "import yfinance as yf\n",
    "import numpy as np\n",
    "import seaborn as sns\n",
    "import pandas as pd\n",
    "import matplotlib.pyplot as plt\n",
    "%matplotlib inline"
   ]
  },
  {
   "cell_type": "markdown",
   "id": "0ee62856-c9db-47b0-bc80-dbc21e609d87",
   "metadata": {},
   "source": [
    "## Getting Stock Data"
   ]
  },
  {
   "cell_type": "raw",
   "id": "ed0f2ea6-6d1d-4ad8-83c2-2c56005cdc40",
   "metadata": {},
   "source": [
    "data = yf.download(\"TSM\", period=\"2y\",progress=False)\n",
    "data.index = data.index.strftime('%Y-%m-%d')\n",
    "data"
   ]
  },
  {
   "cell_type": "code",
   "execution_count": null,
   "id": "f0d70dc9-5dbd-475b-b0ae-dc90609da0c4",
   "metadata": {},
   "outputs": [],
   "source": []
  }
 ],
 "metadata": {
  "kernelspec": {
   "display_name": "Python 3 (ipykernel)",
   "language": "python",
   "name": "python3"
  },
  "language_info": {
   "codemirror_mode": {
    "name": "ipython",
    "version": 3
   },
   "file_extension": ".py",
   "mimetype": "text/x-python",
   "name": "python",
   "nbconvert_exporter": "python",
   "pygments_lexer": "ipython3",
   "version": "3.13.0"
  }
 },
 "nbformat": 4,
 "nbformat_minor": 5
}
